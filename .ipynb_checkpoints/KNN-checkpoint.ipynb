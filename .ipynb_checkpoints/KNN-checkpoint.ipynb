{
 "cells": [
  {
   "cell_type": "code",
   "execution_count": 4,
   "metadata": {},
   "outputs": [],
   "source": [
    "import numpy as np\n",
    "import gzip\n",
    "from sklearn.model_selection import train_test_split as tts\n",
    "\n",
    "uspsTrain = np.genfromtxt('C:\\\\Users\\\\Dan Adamov\\\\Desktop\\\\RHUL\\\\3rd Year\\\\CS3920\\\\zip.train\\\\zip.train', delimiter = \" \", autostrip = True)\n",
    "uspsTest = np.genfromtxt('C:\\\\Users\\\\Dan Adamov\\\\Desktop\\\\RHUL\\\\3rd Year\\\\CS3920\\\\zip.test\\\\zip.test', delimiter = \" \", autostrip = True)\n",
    "usps = np.concatenate((uspsTrain, uspsTest))\n",
    "\n",
    "X_trainUsps, X_testUsps, y_trainUsps, y_testUsps = tts(usps[:,1:], usps[:, 0], test_size=0.125, random_state=709)\n",
    "\n",
    "\n",
    "X_trainMnist = np.array([])\n",
    "y_trainMnist = np.array([])\n",
    "X_testMnist = np.array([])\n",
    "y_testMnist = np.array([])\n",
    "\n",
    "with gzip.open('C:\\\\Users\\\\Dan Adamov\\\\Desktop\\\\RHUL\\\\3rd Year\\\\Individual Project\\\\train-images-idx3-ubyte.gz', 'rb') as trainSampleFile:\n",
    "    trainSampleBuffer = trainSampleFile.read()\n",
    "    X_trainMnistUnshaped = np.frombuffer(trainSampleBuffer, dtype = np.uint8, offset = 16)\n",
    "    X_trainMnist = X_trainMnistUnshaped.reshape(60000, 784)\n",
    "with gzip.open('C:\\\\Users\\\\Dan Adamov\\\\Desktop\\\\RHUL\\\\3rd Year\\\\Individual Project\\\\train-labels-idx1-ubyte.gz', 'rb') as trainLabelFile:\n",
    "    trainLabelBuffer = trainLabelFile.read()\n",
    "    y_trainMnist = np.frombuffer(trainLabelBuffer, dtype = np.uint8, offset = 8)\n",
    "with gzip.open('C:\\\\Users\\\\Dan Adamov\\\\Desktop\\\\RHUL\\\\3rd Year\\\\Individual Project\\\\t10k-images-idx3-ubyte.gz', 'rb') as testSampleFile:\n",
    "    testSampleBuffer = testSampleFile.read()\n",
    "    X_testMnistUnshaped = np.frombuffer(testSampleBuffer, dtype = np.uint8, offset = 16)\n",
    "    X_testMnist = X_testMnistUnshaped.reshape(10000, 784)\n",
    "with gzip.open('C:\\\\Users\\\\Dan Adamov\\\\Desktop\\\\RHUL\\\\3rd Year\\\\Individual Project\\\\t10k-labels-idx1-ubyte.gz', 'rb') as testLabelFile:\n",
    "    testLabelBuffer = testLabelFile.read()\n",
    "    y_testMnist = np.frombuffer(testLabelBuffer, dtype = np.uint8, offset = 8)\n",
    "\n",
    "\n",
    "def neighArray(X_testSample, X_train, y_train, neighNumb):\n",
    "    nearDist = {} # dictionary with key as X_train index and value as Eucledian distance\n",
    "    for i in range(X_train.shape[0]):\n",
    "        eucSum = np.linalg.norm(X_train[i,:] - X_testSample)\n",
    "        if len([*nearDist]) < neighNumb: # when nearDist is empty we fill it up with first elements just to make it full\n",
    "            nearDist[i] = eucSum\n",
    "        else:\n",
    "            maxDistKeyVal = max(nearDist, key=nearDist.get), max(nearDist.values())\n",
    "            if eucSum < maxDistKeyVal[1]:\n",
    "                del nearDist[maxDistKeyVal[0]]\n",
    "                nearDist[i] = eucSum\n",
    "    return [*nearDist]\n",
    "\n",
    "def knnClassifier(X_testSample, X_train, y_train, neighNumb):\n",
    "    nearDist = neighArray(X_testSample, X_train, y_train, neighNumb)\n",
    "    knnLabelVote = {}\n",
    "    for indX in nearDist:\n",
    "        label = y_train[indX]\n",
    "        if label in [*knnLabelVote]:\n",
    "            knnLabelVote[label] += 1\n",
    "        else:\n",
    "            knnLabelVote[label] = 1\n",
    "    return max(knnLabelVote, key = knnLabelVote.get)\n",
    "\n",
    "def knnRegressor(X_testSample, X_train, y_train, neighNumb):\n",
    "    nearDist = neighArray(X_testSample, X_train, y_train, neighNumb)\n",
    "    knnLabelSum = 0\n",
    "    for indX in nearDist:\n",
    "        knnLabelSum += y_train[indX]\n",
    "    return knnLabelSum / len(nearDist)\n",
    "\n",
    "def errorRate(X_testPredicted, y_test):\n",
    "    totalErrors = 0\n",
    "    for t in zip(X_testPredicted, y_test):\n",
    "        if t[0] != t[1]:\n",
    "            totalErrors += 1\n",
    "    return totalErrors/len(X_testPredicted)\n",
    "\n",
    "def errorRateWrapper(X_train, X_test, y_train, y_test, neighNumb):\n",
    "    predictions = []\n",
    "    for testSample in X_test:\n",
    "        predictions.append(knnClassifier(testSample, X_train, y_train, neighNumb))\n",
    "    e = errorRate(predictions, y_test)\n",
    "    return e\n",
    "\n",
    "def errorRateDifNeighWrapper(X_train, X_test, y_train, y_test, neighNumbRange):\n",
    "    for r in range(1, neighNumbRange + 1):\n",
    "        print(\"For\", r , \"nearest neighbours in KNN the error rate is:\", errorRateWrapper(X_train, X_test, y_train, y_test, r))"
   ]
  },
  {
   "cell_type": "code",
   "execution_count": 2,
   "metadata": {
    "scrolled": true
   },
   "outputs": [
    {
     "name": "stdout",
     "output_type": "stream",
     "text": [
      "For 1 nearest neighbours in KNN the error rate is: 0.03009458297506449\n"
     ]
    },
    {
     "ename": "KeyboardInterrupt",
     "evalue": "",
     "output_type": "error",
     "traceback": [
      "\u001b[1;31m---------------------------------------------------------------------------\u001b[0m",
      "\u001b[1;31mKeyboardInterrupt\u001b[0m                         Traceback (most recent call last)",
      "\u001b[1;32m<ipython-input-2-06b63bb78ef0>\u001b[0m in \u001b[0;36m<module>\u001b[1;34m\u001b[0m\n\u001b[1;32m----> 1\u001b[1;33m \u001b[0merrorRateDifNeighWrapper\u001b[0m\u001b[1;33m(\u001b[0m\u001b[0mX_trainUsps\u001b[0m\u001b[1;33m,\u001b[0m \u001b[0mX_testUsps\u001b[0m\u001b[1;33m,\u001b[0m \u001b[0my_trainUsps\u001b[0m\u001b[1;33m,\u001b[0m \u001b[0my_testUsps\u001b[0m\u001b[1;33m,\u001b[0m \u001b[1;36m10\u001b[0m\u001b[1;33m)\u001b[0m\u001b[1;33m\u001b[0m\u001b[1;33m\u001b[0m\u001b[0m\n\u001b[0m",
      "\u001b[1;32m<ipython-input-1-f5507230c26b>\u001b[0m in \u001b[0;36merrorRateDifNeighWrapper\u001b[1;34m(X_train, X_test, y_train, y_test, neighNumbRange)\u001b[0m\n\u001b[0;32m     78\u001b[0m \u001b[1;32mdef\u001b[0m \u001b[0merrorRateDifNeighWrapper\u001b[0m\u001b[1;33m(\u001b[0m\u001b[0mX_train\u001b[0m\u001b[1;33m,\u001b[0m \u001b[0mX_test\u001b[0m\u001b[1;33m,\u001b[0m \u001b[0my_train\u001b[0m\u001b[1;33m,\u001b[0m \u001b[0my_test\u001b[0m\u001b[1;33m,\u001b[0m \u001b[0mneighNumbRange\u001b[0m\u001b[1;33m)\u001b[0m\u001b[1;33m:\u001b[0m\u001b[1;33m\u001b[0m\u001b[1;33m\u001b[0m\u001b[0m\n\u001b[0;32m     79\u001b[0m     \u001b[1;32mfor\u001b[0m \u001b[0mr\u001b[0m \u001b[1;32min\u001b[0m \u001b[0mrange\u001b[0m\u001b[1;33m(\u001b[0m\u001b[1;36m1\u001b[0m\u001b[1;33m,\u001b[0m \u001b[0mneighNumbRange\u001b[0m \u001b[1;33m+\u001b[0m \u001b[1;36m1\u001b[0m\u001b[1;33m)\u001b[0m\u001b[1;33m:\u001b[0m\u001b[1;33m\u001b[0m\u001b[1;33m\u001b[0m\u001b[0m\n\u001b[1;32m---> 80\u001b[1;33m         \u001b[0mprint\u001b[0m\u001b[1;33m(\u001b[0m\u001b[1;34m\"For\"\u001b[0m\u001b[1;33m,\u001b[0m \u001b[0mr\u001b[0m \u001b[1;33m,\u001b[0m \u001b[1;34m\"nearest neighbours in KNN the error rate is:\"\u001b[0m\u001b[1;33m,\u001b[0m \u001b[0merrorRateWrapper\u001b[0m\u001b[1;33m(\u001b[0m\u001b[0mX_train\u001b[0m\u001b[1;33m,\u001b[0m \u001b[0mX_test\u001b[0m\u001b[1;33m,\u001b[0m \u001b[0my_train\u001b[0m\u001b[1;33m,\u001b[0m \u001b[0my_test\u001b[0m\u001b[1;33m,\u001b[0m \u001b[0mr\u001b[0m\u001b[1;33m)\u001b[0m\u001b[1;33m)\u001b[0m\u001b[1;33m\u001b[0m\u001b[1;33m\u001b[0m\u001b[0m\n\u001b[0m",
      "\u001b[1;32m<ipython-input-1-f5507230c26b>\u001b[0m in \u001b[0;36merrorRateWrapper\u001b[1;34m(X_train, X_test, y_train, y_test, neighNumb)\u001b[0m\n\u001b[0;32m     72\u001b[0m     \u001b[0mpredictions\u001b[0m \u001b[1;33m=\u001b[0m \u001b[1;33m[\u001b[0m\u001b[1;33m]\u001b[0m\u001b[1;33m\u001b[0m\u001b[1;33m\u001b[0m\u001b[0m\n\u001b[0;32m     73\u001b[0m     \u001b[1;32mfor\u001b[0m \u001b[0mtestSample\u001b[0m \u001b[1;32min\u001b[0m \u001b[0mX_test\u001b[0m\u001b[1;33m:\u001b[0m\u001b[1;33m\u001b[0m\u001b[1;33m\u001b[0m\u001b[0m\n\u001b[1;32m---> 74\u001b[1;33m         \u001b[0mpredictions\u001b[0m\u001b[1;33m.\u001b[0m\u001b[0mappend\u001b[0m\u001b[1;33m(\u001b[0m\u001b[0mknnClassifier\u001b[0m\u001b[1;33m(\u001b[0m\u001b[0mtestSample\u001b[0m\u001b[1;33m,\u001b[0m \u001b[0mX_train\u001b[0m\u001b[1;33m,\u001b[0m \u001b[0my_train\u001b[0m\u001b[1;33m,\u001b[0m \u001b[0mneighNumb\u001b[0m\u001b[1;33m)\u001b[0m\u001b[1;33m)\u001b[0m\u001b[1;33m\u001b[0m\u001b[1;33m\u001b[0m\u001b[0m\n\u001b[0m\u001b[0;32m     75\u001b[0m     \u001b[0me\u001b[0m \u001b[1;33m=\u001b[0m \u001b[0merrorRate\u001b[0m\u001b[1;33m(\u001b[0m\u001b[0mpredictions\u001b[0m\u001b[1;33m,\u001b[0m \u001b[0my_test\u001b[0m\u001b[1;33m)\u001b[0m\u001b[1;33m\u001b[0m\u001b[1;33m\u001b[0m\u001b[0m\n\u001b[0;32m     76\u001b[0m     \u001b[1;32mreturn\u001b[0m \u001b[0me\u001b[0m\u001b[1;33m\u001b[0m\u001b[1;33m\u001b[0m\u001b[0m\n",
      "\u001b[1;32m<ipython-input-1-f5507230c26b>\u001b[0m in \u001b[0;36mknnClassifier\u001b[1;34m(X_testSample, X_train, y_train, neighNumb)\u001b[0m\n\u001b[0;32m     45\u001b[0m \u001b[1;33m\u001b[0m\u001b[0m\n\u001b[0;32m     46\u001b[0m \u001b[1;32mdef\u001b[0m \u001b[0mknnClassifier\u001b[0m\u001b[1;33m(\u001b[0m\u001b[0mX_testSample\u001b[0m\u001b[1;33m,\u001b[0m \u001b[0mX_train\u001b[0m\u001b[1;33m,\u001b[0m \u001b[0my_train\u001b[0m\u001b[1;33m,\u001b[0m \u001b[0mneighNumb\u001b[0m\u001b[1;33m)\u001b[0m\u001b[1;33m:\u001b[0m\u001b[1;33m\u001b[0m\u001b[1;33m\u001b[0m\u001b[0m\n\u001b[1;32m---> 47\u001b[1;33m     \u001b[0mnearDist\u001b[0m \u001b[1;33m=\u001b[0m \u001b[0mneighArray\u001b[0m\u001b[1;33m(\u001b[0m\u001b[0mX_testSample\u001b[0m\u001b[1;33m,\u001b[0m \u001b[0mX_train\u001b[0m\u001b[1;33m,\u001b[0m \u001b[0my_train\u001b[0m\u001b[1;33m,\u001b[0m \u001b[0mneighNumb\u001b[0m\u001b[1;33m)\u001b[0m\u001b[1;33m\u001b[0m\u001b[1;33m\u001b[0m\u001b[0m\n\u001b[0m\u001b[0;32m     48\u001b[0m     \u001b[0mknnLabelVote\u001b[0m \u001b[1;33m=\u001b[0m \u001b[1;33m{\u001b[0m\u001b[1;33m}\u001b[0m\u001b[1;33m\u001b[0m\u001b[1;33m\u001b[0m\u001b[0m\n\u001b[0;32m     49\u001b[0m     \u001b[1;32mfor\u001b[0m \u001b[0mindX\u001b[0m \u001b[1;32min\u001b[0m \u001b[0mnearDist\u001b[0m\u001b[1;33m:\u001b[0m\u001b[1;33m\u001b[0m\u001b[1;33m\u001b[0m\u001b[0m\n",
      "\u001b[1;32m<ipython-input-1-f5507230c26b>\u001b[0m in \u001b[0;36mneighArray\u001b[1;34m(X_testSample, X_train, y_train, neighNumb)\u001b[0m\n\u001b[0;32m     34\u001b[0m     \u001b[0mnearDist\u001b[0m \u001b[1;33m=\u001b[0m \u001b[1;33m{\u001b[0m\u001b[1;33m}\u001b[0m \u001b[1;31m# dictionary with key as X_train index and value as Eucledian distance\u001b[0m\u001b[1;33m\u001b[0m\u001b[1;33m\u001b[0m\u001b[0m\n\u001b[0;32m     35\u001b[0m     \u001b[1;32mfor\u001b[0m \u001b[0mi\u001b[0m \u001b[1;32min\u001b[0m \u001b[0mrange\u001b[0m\u001b[1;33m(\u001b[0m\u001b[0mX_train\u001b[0m\u001b[1;33m.\u001b[0m\u001b[0mshape\u001b[0m\u001b[1;33m[\u001b[0m\u001b[1;36m0\u001b[0m\u001b[1;33m]\u001b[0m\u001b[1;33m)\u001b[0m\u001b[1;33m:\u001b[0m\u001b[1;33m\u001b[0m\u001b[1;33m\u001b[0m\u001b[0m\n\u001b[1;32m---> 36\u001b[1;33m         \u001b[0meucSum\u001b[0m \u001b[1;33m=\u001b[0m \u001b[0mnp\u001b[0m\u001b[1;33m.\u001b[0m\u001b[0mlinalg\u001b[0m\u001b[1;33m.\u001b[0m\u001b[0mnorm\u001b[0m\u001b[1;33m(\u001b[0m\u001b[0mX_train\u001b[0m\u001b[1;33m[\u001b[0m\u001b[0mi\u001b[0m\u001b[1;33m,\u001b[0m\u001b[1;33m:\u001b[0m\u001b[1;33m]\u001b[0m \u001b[1;33m-\u001b[0m \u001b[0mX_testSample\u001b[0m\u001b[1;33m)\u001b[0m\u001b[1;33m\u001b[0m\u001b[1;33m\u001b[0m\u001b[0m\n\u001b[0m\u001b[0;32m     37\u001b[0m         \u001b[1;32mif\u001b[0m \u001b[0mlen\u001b[0m\u001b[1;33m(\u001b[0m\u001b[1;33m[\u001b[0m\u001b[1;33m*\u001b[0m\u001b[0mnearDist\u001b[0m\u001b[1;33m]\u001b[0m\u001b[1;33m)\u001b[0m \u001b[1;33m<\u001b[0m \u001b[0mneighNumb\u001b[0m\u001b[1;33m:\u001b[0m \u001b[1;31m# when nearDist is empty we fill it up with first elements just to make it full\u001b[0m\u001b[1;33m\u001b[0m\u001b[1;33m\u001b[0m\u001b[0m\n\u001b[0;32m     38\u001b[0m             \u001b[0mnearDist\u001b[0m\u001b[1;33m[\u001b[0m\u001b[0mi\u001b[0m\u001b[1;33m]\u001b[0m \u001b[1;33m=\u001b[0m \u001b[0meucSum\u001b[0m\u001b[1;33m\u001b[0m\u001b[1;33m\u001b[0m\u001b[0m\n",
      "\u001b[1;32m<__array_function__ internals>\u001b[0m in \u001b[0;36mnorm\u001b[1;34m(*args, **kwargs)\u001b[0m\n",
      "\u001b[1;32mC:\\ProgramData\\Anaconda3\\lib\\site-packages\\numpy\\linalg\\linalg.py\u001b[0m in \u001b[0;36mnorm\u001b[1;34m(x, ord, axis, keepdims)\u001b[0m\n\u001b[0;32m   2474\u001b[0m                 \u001b[0msqnorm\u001b[0m \u001b[1;33m=\u001b[0m \u001b[0mdot\u001b[0m\u001b[1;33m(\u001b[0m\u001b[0mx\u001b[0m\u001b[1;33m.\u001b[0m\u001b[0mreal\u001b[0m\u001b[1;33m,\u001b[0m \u001b[0mx\u001b[0m\u001b[1;33m.\u001b[0m\u001b[0mreal\u001b[0m\u001b[1;33m)\u001b[0m \u001b[1;33m+\u001b[0m \u001b[0mdot\u001b[0m\u001b[1;33m(\u001b[0m\u001b[0mx\u001b[0m\u001b[1;33m.\u001b[0m\u001b[0mimag\u001b[0m\u001b[1;33m,\u001b[0m \u001b[0mx\u001b[0m\u001b[1;33m.\u001b[0m\u001b[0mimag\u001b[0m\u001b[1;33m)\u001b[0m\u001b[1;33m\u001b[0m\u001b[1;33m\u001b[0m\u001b[0m\n\u001b[0;32m   2475\u001b[0m             \u001b[1;32melse\u001b[0m\u001b[1;33m:\u001b[0m\u001b[1;33m\u001b[0m\u001b[1;33m\u001b[0m\u001b[0m\n\u001b[1;32m-> 2476\u001b[1;33m                 \u001b[0msqnorm\u001b[0m \u001b[1;33m=\u001b[0m \u001b[0mdot\u001b[0m\u001b[1;33m(\u001b[0m\u001b[0mx\u001b[0m\u001b[1;33m,\u001b[0m \u001b[0mx\u001b[0m\u001b[1;33m)\u001b[0m\u001b[1;33m\u001b[0m\u001b[1;33m\u001b[0m\u001b[0m\n\u001b[0m\u001b[0;32m   2477\u001b[0m             \u001b[0mret\u001b[0m \u001b[1;33m=\u001b[0m \u001b[0msqrt\u001b[0m\u001b[1;33m(\u001b[0m\u001b[0msqnorm\u001b[0m\u001b[1;33m)\u001b[0m\u001b[1;33m\u001b[0m\u001b[1;33m\u001b[0m\u001b[0m\n\u001b[0;32m   2478\u001b[0m             \u001b[1;32mif\u001b[0m \u001b[0mkeepdims\u001b[0m\u001b[1;33m:\u001b[0m\u001b[1;33m\u001b[0m\u001b[1;33m\u001b[0m\u001b[0m\n",
      "\u001b[1;32m<__array_function__ internals>\u001b[0m in \u001b[0;36mdot\u001b[1;34m(*args, **kwargs)\u001b[0m\n",
      "\u001b[1;31mKeyboardInterrupt\u001b[0m: "
     ]
    }
   ],
   "source": [
    "errorRateDifNeighWrapper(X_trainUsps, X_testUsps, y_trainUsps, y_testUsps, 10)"
   ]
  },
  {
   "cell_type": "code",
   "execution_count": 6,
   "metadata": {},
   "outputs": [
    {
     "name": "stdout",
     "output_type": "stream",
     "text": [
      "For 1 nearest neighbours in KNN the error rate is: 0.45\n",
      "For 2 nearest neighbours in KNN the error rate is: 0.45\n",
      "For 3 nearest neighbours in KNN the error rate is: 0.4\n",
      "For 4 nearest neighbours in KNN the error rate is: 0.45\n",
      "For 5 nearest neighbours in KNN the error rate is: 0.45\n",
      "For 6 nearest neighbours in KNN the error rate is: 0.45\n",
      "For 7 nearest neighbours in KNN the error rate is: 0.55\n",
      "For 8 nearest neighbours in KNN the error rate is: 0.5\n",
      "For 9 nearest neighbours in KNN the error rate is: 0.5\n",
      "For 10 nearest neighbours in KNN the error rate is: 0.5\n"
     ]
    }
   ],
   "source": [
    "errorRateDifNeighWrapper(X_trainMnist, X_testMnist[:20], y_trainMnist, y_testMnist[:20], 10)"
   ]
  },
  {
   "cell_type": "code",
   "execution_count": 5,
   "metadata": {},
   "outputs": [
    {
     "name": "stdout",
     "output_type": "stream",
     "text": [
      "prediction: 1.0\n",
      "label: 4.0 n: 42\n"
     ]
    },
    {
     "data": {
      "image/png": "[encoded data removed]",
      "text/plain": [
       "<Figure size 432x288 with 1 Axes>"
      ]
     },
     "metadata": {
      "needs_background": "light"
     },
     "output_type": "display_data"
    }
   ],
   "source": [
    "from PIL import Image\n",
    "import matplotlib.pyplot as plt\n",
    "\n",
    "for k in range(0, len(X_testUsps)):\n",
    "    knnC = knnClassifier(X_testUsps[k], X_trainUsps, y_trainUsps, 1)\n",
    "    if knnC != y_testUsps[k]:\n",
    "        plt.imshow((X_testUsps[k,:]*127.5+128).astype(int).reshape(16,16))\n",
    "        print(\"prediction:\", knnC)\n",
    "        print(\"label:\", y_testUsps[k], \"n:\", k)\n",
    "        break"
   ]
  },
  {
   "cell_type": "code",
   "execution_count": 6,
   "metadata": {},
   "outputs": [
    {
     "name": "stdout",
     "output_type": "stream",
     "text": [
      "prediction: 1\n",
      "label: 2 n: 1\n"
     ]
    },
    {
     "data": {
      "image/png": "[encoded data removed]",
      "text/plain": [
       "<Figure size 432x288 with 1 Axes>"
      ]
     },
     "metadata": {
      "needs_background": "light"
     },
     "output_type": "display_data"
    }
   ],
   "source": [
    "for k in range(0, len(X_testMnist)):\n",
    "    knnC = knnClassifier(X_testMnist[k], X_trainMnist, y_trainMnist, 1)\n",
    "    if knnC != y_testMnist[k]:\n",
    "        plt.imshow((X_testMnist[k,:]).astype(int).reshape(28,28))\n",
    "        print(\"prediction:\", knnC)\n",
    "        print(\"label:\", y_testMnist[k], \"n:\", k)\n",
    "        break"
   ]
  },
  {
   "cell_type": "code",
   "execution_count": 1,
   "metadata": {},
   "outputs": [],
   "source": [
    "import pickle as pkl"
   ]
  },
  {
   "cell_type": "code",
   "execution_count": null,
   "metadata": {},
   "outputs": [],
   "source": []
  }
 ],
 "metadata": {
  "kernelspec": {
   "display_name": "Python 3",
   "language": "python",
   "name": "python3"
  },
  "language_info": {
   "codemirror_mode": {
    "name": "ipython",
    "version": 3
   },
   "file_extension": ".py",
   "mimetype": "text/x-python",
   "name": "python",
   "nbconvert_exporter": "python",
   "pygments_lexer": "ipython3",
   "version": "3.8.5"
  }
 },
 "nbformat": 4,
 "nbformat_minor": 4
}
