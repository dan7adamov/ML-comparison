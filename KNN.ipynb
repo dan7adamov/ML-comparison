{
 "cells": [
  {
   "cell_type": "code",
   "execution_count": 1,
   "metadata": {},
   "outputs": [],
   "source": [
    "import numpy as np\n",
    "import gzip\n",
    "from sklearn.model_selection import train_test_split as tts\n",
    "\n",
    "\n",
    "uspsTrain = np.genfromtxt('C:\\\\Users\\\\Dan Adamov\\\\Desktop\\\\RHUL\\\\3rd Year\\\\Individual Project\\\\zip.train\\\\zip.train', delimiter = \" \", autostrip = True)\n",
    "uspsTest = np.genfromtxt('C:\\\\Users\\\\Dan Adamov\\\\Desktop\\\\RHUL\\\\3rd Year\\\\Individual Project\\\\zip.test\\\\zip.test', delimiter = \" \", autostrip = True)\n",
    "usps = np.concatenate((uspsTrain, uspsTest))\n",
    "X_trainUsps, X_testUsps, y_trainUsps, y_testUsps = tts(usps[:,1:], usps[:, 0], test_size=0.125, random_state=709)\n",
    "#Dowloaded USPS dataset into train and test datasets(ratio 7:1 respectively) and have separate arrays for features and their corresponding labels\n",
    "\n",
    "X_trainMnist = np.array([])\n",
    "y_trainMnist = np.array([])\n",
    "X_testMnist = np.array([])\n",
    "y_testMnist = np.array([])\n",
    "with gzip.open('C:\\\\Users\\\\Dan Adamov\\\\Desktop\\\\RHUL\\\\3rd Year\\\\Individual Project\\\\train-images-idx3-ubyte.gz', 'rb') as trainSampleFile:\n",
    "    trainSampleBuffer = trainSampleFile.read()\n",
    "    X_trainMnistUnshaped = np.frombuffer(trainSampleBuffer, dtype = np.uint8, offset = 16)\n",
    "    X_trainMnist = X_trainMnistUnshaped.reshape(60000, 784)\n",
    "with gzip.open('C:\\\\Users\\\\Dan Adamov\\\\Desktop\\\\RHUL\\\\3rd Year\\\\Individual Project\\\\train-labels-idx1-ubyte.gz', 'rb') as trainLabelFile:\n",
    "    trainLabelBuffer = trainLabelFile.read()\n",
    "    y_trainMnist = np.frombuffer(trainLabelBuffer, dtype = np.uint8, offset = 8)\n",
    "with gzip.open('C:\\\\Users\\\\Dan Adamov\\\\Desktop\\\\RHUL\\\\3rd Year\\\\Individual Project\\\\t10k-images-idx3-ubyte.gz', 'rb') as testSampleFile:\n",
    "    testSampleBuffer = testSampleFile.read()\n",
    "    X_testMnistUnshaped = np.frombuffer(testSampleBuffer, dtype = np.uint8, offset = 16)\n",
    "    X_testMnist = X_testMnistUnshaped.reshape(10000, 784)\n",
    "with gzip.open('C:\\\\Users\\\\Dan Adamov\\\\Desktop\\\\RHUL\\\\3rd Year\\\\Individual Project\\\\t10k-labels-idx1-ubyte.gz', 'rb') as testLabelFile:\n",
    "    testLabelBuffer = testLabelFile.read()\n",
    "    y_testMnist = np.frombuffer(testLabelBuffer, dtype = np.uint8, offset = 8)\n",
    "# Dowloaded Mnist dataset into train and test datasets(ratio 6:1 respectively) and have separate arrays for features and their corresponding labels\n",
    "\n",
    "\n",
    "def neighArray(X_testSample, X_train, y_train, neighNumb):\n",
    "    nearDist = {} # dictionary with key as X_train index and value as Eucledian distance\n",
    "    for i in range(X_train.shape[0]):\n",
    "        eucSum = np.linalg.norm(X_train[i,:] - X_testSample)\n",
    "        if len([*nearDist]) < neighNumb: # when nearDist is empty we fill it up with first elements just to make it full\n",
    "            nearDist[i] = eucSum\n",
    "        else:\n",
    "            maxDistKeyVal = max(nearDist, key=nearDist.get), max(nearDist.values())\n",
    "            if eucSum < maxDistKeyVal[1]:\n",
    "                del nearDist[maxDistKeyVal[0]]\n",
    "                nearDist[i] = eucSum\n",
    "    return [*nearDist]\n",
    "\n",
    "def knnClassifier(X_testSample, X_train, y_train, neighNumb):\n",
    "    nearDist = neighArray(X_testSample, X_train, y_train, neighNumb)\n",
    "    knnLabelVote = {} #building a dictionary for each label (key) incrementing by +1 its value when nearest neighbour has a given label\n",
    "    for indX in nearDist:\n",
    "        label = y_train[indX]\n",
    "        if label in [*knnLabelVote]:\n",
    "            knnLabelVote[label] += 1\n",
    "        else:\n",
    "            knnLabelVote[label] = 1\n",
    "    predictedLabel = max(knnLabelVote, key = knnLabelVote.get)\n",
    "    return predictedLabel\n",
    "\n",
    "def knnRegressor(X_testSample, X_train, y_train, neighNumb):\n",
    "    nearDist = neighArray(X_testSample, X_train, y_train, neighNumb)\n",
    "    knnLabelSum = 0\n",
    "    for indX in nearDist:\n",
    "        knnLabelSum += y_train[indX]\n",
    "    return knnLabelSum / len(nearDist)\n",
    "\n",
    "def errorRate(X_testPredicted, y_test):\n",
    "    totalErrors = 0\n",
    "    for t in range( len(X_testPredicted) - 1 ):\n",
    "        if X_testPredicted[t] != y_test[t]:\n",
    "            totalErrors += 1\n",
    "    return totalErrors/len(X_testPredicted)\n",
    "\n",
    "def errorRateWrapper(X_train, X_test, y_train, y_test, neighNumb):\n",
    "    predictions = []\n",
    "    for testSample in X_test:\n",
    "        predictions.append( knnClassifier(testSample, X_train, y_train, neighNumb) )\n",
    "    curErrorRate = errorRate(predictions, y_test)\n",
    "    return curErrorRate\n",
    "\n",
    "def errorRateDifNeighWrapper(X_train, X_test, y_train, y_test, neighNumbRange):\n",
    "    for r in range(1, neighNumbRange + 1):\n",
    "        print(\"For\", r , \"nearest neighbours in KNN the error rate is:\", errorRateWrapper(X_train, X_test, y_train, y_test, r))"
   ]
  },
  {
   "cell_type": "code",
   "execution_count": 6,
   "metadata": {
    "scrolled": true
   },
   "outputs": [
    {
     "name": "stdout",
     "output_type": "stream",
     "text": [
      "For 1 nearest neighbours in KNN the error rate is: 0.03009458297506449\n",
      "For 2 nearest neighbours in KNN the error rate is: 0.03697334479793637\n",
      "For 3 nearest neighbours in KNN the error rate is: 0.034393809114359415\n",
      "For 4 nearest neighbours in KNN the error rate is: 0.037833190025795355\n",
      "For 5 nearest neighbours in KNN the error rate is: 0.03955288048151333\n",
      "For 6 nearest neighbours in KNN the error rate is: 0.040412725709372314\n",
      "For 7 nearest neighbours in KNN the error rate is: 0.03955288048151333\n",
      "For 8 nearest neighbours in KNN the error rate is: 0.04471195184866724\n",
      "For 9 nearest neighbours in KNN the error rate is: 0.04471195184866724\n",
      "For 10 nearest neighbours in KNN the error rate is: 0.043852106620808254\n"
     ]
    }
   ],
   "source": [
    "errorRateDifNeighWrapper(X_trainUsps, X_testUsps, y_trainUsps, y_testUsps, 10)"
   ]
  },
  {
   "cell_type": "code",
   "execution_count": 7,
   "metadata": {},
   "outputs": [
    {
     "name": "stdout",
     "output_type": "stream",
     "text": [
      "For 1 nearest neighbours in KNN the error rate is: 0.4948\n",
      "For 2 nearest neighbours in KNN the error rate is: 0.5426\n",
      "For 3 nearest neighbours in KNN the error rate is: 0.5542\n",
      "For 4 nearest neighbours in KNN the error rate is: 0.5756\n",
      "For 5 nearest neighbours in KNN the error rate is: 0.5888\n",
      "For 6 nearest neighbours in KNN the error rate is: 0.5995\n",
      "For 7 nearest neighbours in KNN the error rate is: 0.6109\n",
      "For 8 nearest neighbours in KNN the error rate is: 0.6175\n",
      "For 9 nearest neighbours in KNN the error rate is: 0.6315\n",
      "For 10 nearest neighbours in KNN the error rate is: 0.638\n"
     ]
    }
   ],
   "source": [
    "errorRateDifNeighWrapper(X_trainMnist, X_testMnist, y_trainMnist, y_testMnist, 10)"
   ]
  },
  {
   "cell_type": "code",
   "execution_count": 40,
   "metadata": {},
   "outputs": [
    {
     "name": "stdout",
     "output_type": "stream",
     "text": [
      "Program Prediction: 2.0\n",
      "Actual Label: 2.0\n"
     ]
    },
    {
     "data": {
      "image/png": "[encoded data removed]",
      "text/plain": [
       "<Figure size 432x288 with 1 Axes>"
      ]
     },
     "metadata": {
      "needs_background": "light"
     },
     "output_type": "display_data"
    }
   ],
   "source": [
    "from PIL import Image\n",
    "import matplotlib.pyplot as plt\n",
    "\n",
    "for k in range(7, len(X_testUsps)):\n",
    "    knnC = knnClassifier(X_testUsps[k], X_trainUsps, y_trainUsps, 1)\n",
    "    #if knnC != y_testUsps[k]:\n",
    "        # plt.pcolormesh((X_testUsps[k,:]*127.5+128).astype(int).reshape(16,16), edgecolors='k', linewidth=2)\n",
    "    plt.imshow((X_testUsps[k,:]*127.5+128).astype(int).reshape(16,16))\n",
    "    ax = plt.gca();\n",
    "    ax.grid(color='k', linestyle='-', linewidth=1)\n",
    "    ax.set_xticks(np.arange(0.5, 16, 1))\n",
    "    ax.set_yticks(np.arange(0.5, 16, 1))\n",
    "    ax.set_xticklabels(np.arange(1, 16, 1))\n",
    "    ax.set_yticklabels(np.arange(1, 16, 1))\n",
    "    print(\"Program Prediction:\", knnC)\n",
    "    print(\"Actual Label:\", y_testUsps[k])\n",
    "    break"
   ]
  },
  {
   "cell_type": "code",
   "execution_count": 6,
   "metadata": {},
   "outputs": [
    {
     "name": "stdout",
     "output_type": "stream",
     "text": [
      "prediction: 1\n",
      "label: 2 n: 1\n"
     ]
    },
    {
     "data": {
      "image/png": "[encoded data removed]",
      "text/plain": [
       "<Figure size 432x288 with 1 Axes>"
      ]
     },
     "metadata": {
      "needs_background": "light"
     },
     "output_type": "display_data"
    }
   ],
   "source": [
    "for k in range(0, len(X_testMnist)):\n",
    "    knnC = knnClassifier(X_testMnist[k], X_trainMnist, y_trainMnist, 1)\n",
    "    if knnC != y_testMnist[k]:\n",
    "        plt.imshow((X_testMnist[k,:]).astype(int).reshape(28,28))\n",
    "        print(\"prediction:\", knnC)\n",
    "        print(\"label:\", y_testMnist[k], \"n:\", k)\n",
    "        break"
   ]
  },
  {
   "cell_type": "code",
   "execution_count": 5,
   "metadata": {},
   "outputs": [],
   "source": [
    "import pickle as pkl\n",
    "import numpy as np\n",
    "a = np.array([0,1,2,3,3,5,6,7,8,9])\n",
    "pkl.dump(a, open(\"a.pkl\", \"wb\"))"
   ]
  }
 ],
 "metadata": {
  "kernelspec": {
   "display_name": "Python 3",
   "language": "python",
   "name": "python3"
  },
  "language_info": {
   "codemirror_mode": {
    "name": "ipython",
    "version": 3
   },
   "file_extension": ".py",
   "mimetype": "text/x-python",
   "name": "python",
   "nbconvert_exporter": "python",
   "pygments_lexer": "ipython3",
   "version": "3.8.3"
  }
 },
 "nbformat": 4,
 "nbformat_minor": 4
}
